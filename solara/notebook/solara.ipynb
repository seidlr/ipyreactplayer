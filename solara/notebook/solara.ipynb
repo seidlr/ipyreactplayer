{
 "cells": [
  {
   "cell_type": "code",
   "execution_count": 4,
   "metadata": {
    "tags": []
   },
   "outputs": [
    {
     "data": {
      "application/vnd.jupyter.widget-view+json": {
       "model_id": "62eec5316793448c8181990f573ebd2b",
       "version_major": 2,
       "version_minor": 0
      },
      "text/plain": [
       "VideoPlayer(value=None, url='https://player.vimeo.com/video/916002624?h=fa198508bf&amp;badge=0&amp;autopause=0…"
      ]
     },
     "execution_count": 4,
     "metadata": {},
     "output_type": "execute_result"
    }
   ],
   "source": [
    "from ipyreactplayer import VideoPlayer\n",
    "\n",
    "url = 'https://vimeo.com/663967148/fb7c372be3?share=copy'\n",
    "\n",
    "app = VideoPlayer(url=url)\n",
    "app"
   ]
  },
  {
   "cell_type": "code",
   "execution_count": null,
   "metadata": {},
   "outputs": [],
   "source": []
  }
 ],
 "metadata": {
  "kernelspec": {
   "display_name": "Python 3 (ipykernel)",
   "language": "python",
   "name": "python3"
  },
  "language_info": {
   "codemirror_mode": {
    "name": "ipython",
    "version": 3
   },
   "file_extension": ".py",
   "mimetype": "text/x-python",
   "name": "python",
   "nbconvert_exporter": "python",
   "pygments_lexer": "ipython3",
   "version": "3.9.18"
  }
 },
 "nbformat": 4,
 "nbformat_minor": 4
}
