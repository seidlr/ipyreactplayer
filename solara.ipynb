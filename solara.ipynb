{
 "cells": [
  {
   "cell_type": "code",
   "execution_count": 17,
   "metadata": {},
   "outputs": [
    {
     "data": {
      "application/vnd.jupyter.widget-view+json": {
       "model_id": "cbaeed4845ae4104883d7e45c81ed57b",
       "version_major": 2,
       "version_minor": 0
      },
      "text/plain": [
       "IpyreactPlayer(url='https://vimeo.com/663967148/fb7c372be3?share=copy')"
      ]
     },
     "execution_count": 17,
     "metadata": {},
     "output_type": "execute_result"
    }
   ],
   "source": [
    "from ipyreactplayer import VideoPlayer\n",
    "\n",
    "url = 'https://vimeo.com/663967148/fb7c372be3?share=copy'\n",
    "app = VideoPlayer(url=url)\n",
    "app"
   ]
  }
 ],
 "metadata": {
  "kernelspec": {
   "display_name": "Python 3 (ipykernel)",
   "language": "python",
   "name": "python3"
  },
  "language_info": {
   "codemirror_mode": {
    "name": "ipython",
    "version": 3
   },
   "file_extension": ".py",
   "mimetype": "text/x-python",
   "name": "python",
   "nbconvert_exporter": "python",
   "pygments_lexer": "ipython3",
   "version": "3.9.18"
  }
 },
 "nbformat": 4,
 "nbformat_minor": 4
}
